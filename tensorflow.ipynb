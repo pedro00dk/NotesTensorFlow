{
  "nbformat": 4,
  "nbformat_minor": 0,
  "metadata": {
    "colab": {
      "name": "tensorflow.ipynb",
      "version": "0.3.2",
      "provenance": [],
      "include_colab_link": true
    },
    "kernelspec": {
      "name": "python3",
      "display_name": "Python 3"
    }
  },
  "cells": [
    {
      "cell_type": "markdown",
      "metadata": {
        "id": "view-in-github",
        "colab_type": "text"
      },
      "source": [
        "[View in Colaboratory](https://colab.research.google.com/github/pedro00dk/python-lml/blob/master/tensorflow.ipynb)"
      ]
    },
    {
      "metadata": {
        "id": "UezTFQit6G3a",
        "colab_type": "text"
      },
      "cell_type": "markdown",
      "source": [
        "# TensorFlow\n",
        "\n",
        "This notebook contains my progress studing the TensorFlow library."
      ]
    },
    {
      "metadata": {
        "id": "AyhmeSp-5iM7",
        "colab_type": "code",
        "colab": {}
      },
      "cell_type": "code",
      "source": [
        ""
      ],
      "execution_count": 0,
      "outputs": []
    }
  ]
}