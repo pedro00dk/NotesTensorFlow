{
  "nbformat": 4,
  "nbformat_minor": 0,
  "metadata": {
    "colab": {
      "name": "tensorflow.ipynb",
      "version": "0.3.2",
      "provenance": [],
      "include_colab_link": true
    },
    "kernelspec": {
      "name": "python3",
      "display_name": "Python 3"
    }
  },
  "cells": [
    {
      "cell_type": "markdown",
      "metadata": {
        "id": "view-in-github",
        "colab_type": "text"
      },
      "source": [
        "[View in Colaboratory](https://colab.research.google.com/github/pedro00dk/python-lml/blob/master/tensorflow.ipynb)"
      ]
    },
    {
      "metadata": {
        "id": "UezTFQit6G3a",
        "colab_type": "text"
      },
      "cell_type": "markdown",
      "source": [
        "# TensorFlow\n",
        "\n",
        "This notebook contains my progress studing the TensorFlow library.\n",
        "\n",
        "\n",
        "### Resources\n",
        "* https://www.tensorflow.org/guide/\n",
        "* https://www.tensorflow.org/api_docs/\n",
        "* https://learningtensorflow.com/getting_started/\n",
        "\n",
        "\n",
        "## What is tensorflow\n",
        "\n",
        "Tensorflow is a way to represent computation without executing it until asked. It's like lazy evaluation, the entire program is configured and only waits the input."
      ]
    },
    {
      "metadata": {
        "id": "AyhmeSp-5iM7",
        "colab_type": "code",
        "colab": {}
      },
      "cell_type": "code",
      "source": [
        "import numpy as np\n",
        "import tensorflow as tf"
      ],
      "execution_count": 0,
      "outputs": []
    },
    {
      "metadata": {
        "id": "BqsYW-8j8tID",
        "colab_type": "text"
      },
      "cell_type": "markdown",
      "source": [
        "## Basics"
      ]
    },
    {
      "metadata": {
        "id": "r-biuknL9m3_",
        "colab_type": "text"
      },
      "cell_type": "markdown",
      "source": [
        "### Constants and Variables\n",
        "\n",
        "First of all, look at this python example, it simply creates a variable x with the value of 10, then, creates y with the sum of x and 5.\n",
        "\n",
        "```python\n",
        "x = 10\n",
        "y = x + 5\n",
        "print(y) # 15\n",
        "```\n",
        "\n",
        "The tensorflow equivalent is:"
      ]
    },
    {
      "metadata": {
        "id": "oKm_BTEE9OgQ",
        "colab_type": "code",
        "colab": {
          "base_uri": "https://localhost:8080/",
          "height": 35
        },
        "outputId": "74e8452a-f881-4765-b8df-96ac2cd81423"
      },
      "cell_type": "code",
      "source": [
        "x = tf.constant(10, name='x')\n",
        "y = tf.Variable(x + 5, name='y')\n",
        "\n",
        "# another way\n",
        "# v = tf.constant(5)\n",
        "# x = tf.constant(10)\n",
        "# y = x + v # in this case y is a Tensor, not a tf.Variable\n",
        "\n",
        "print(y)"
      ],
      "execution_count": 13,
      "outputs": [
        {
          "output_type": "stream",
          "text": [
            "<tf.Variable 'y_7:0' shape=() dtype=int32_ref>\n"
          ],
          "name": "stdout"
        }
      ]
    },
    {
      "metadata": {
        "id": "5C_jgezU-giG",
        "colab_type": "text"
      },
      "cell_type": "markdown",
      "source": [
        "As seen, it doesn't output 15, but a function to compute the result. To compute the result, it's necessary to create some new objects."
      ]
    },
    {
      "metadata": {
        "id": "hAWpc0I-D01G",
        "colab_type": "code",
        "colab": {
          "base_uri": "https://localhost:8080/",
          "height": 35
        },
        "outputId": "e0a72119-5ae5-4c45-a72e-42ebc5711b6c"
      },
      "cell_type": "code",
      "source": [
        "# Initializes the tf.Variable elements (not needed when there is only Tensors)\n",
        "model = tf.global_variables_initializer()\n",
        "\n",
        "# Se\n",
        "with tf.Session() as session:\n",
        "    session.run(model)\n",
        "    print(session.run(y))"
      ],
      "execution_count": 14,
      "outputs": [
        {
          "output_type": "stream",
          "text": [
            "15\n"
          ],
          "name": "stdout"
        }
      ]
    },
    {
      "metadata": {
        "id": "X7fJaCDBYyHj",
        "colab_type": "text"
      },
      "cell_type": "markdown",
      "source": [
        "The `tf.global_variables_initializer` is used to initialize tf.Variable object, but isn't necessary for Tensor objects.\n",
        "\n",
        "The `tf.Session` runs the graph created with the operations. It's a closeable object."
      ]
    },
    {
      "metadata": {
        "id": "nuLSDxiDFIRH",
        "colab_type": "code",
        "colab": {
          "base_uri": "https://localhost:8080/",
          "height": 53
        },
        "outputId": "daef9ccb-1f0f-46bb-8c9c-6523800e7d4d"
      },
      "cell_type": "code",
      "source": [
        "x = tf.constant([[10, 20], [30, 40]], name='x')\n",
        "y = tf.Variable(x + 5, name='y')\n",
        "\n",
        "\n",
        "with tf.Session() as session:\n",
        "    session.run(tf.global_variables_initializer()) # inlined global_variables_initializer\n",
        "    print(session.run(y))"
      ],
      "execution_count": 22,
      "outputs": [
        {
          "output_type": "stream",
          "text": [
            "[[15 25]\n",
            " [35 45]]\n"
          ],
          "name": "stdout"
        }
      ]
    },
    {
      "metadata": {
        "id": "3n5qApH1dwja",
        "colab_type": "text"
      },
      "cell_type": "markdown",
      "source": [
        "Example of function\n",
        "\n",
        "$5x^2-3x+15$"
      ]
    },
    {
      "metadata": {
        "id": "ctVvCAugb_9N",
        "colab_type": "code",
        "colab": {
          "base_uri": "https://localhost:8080/",
          "height": 35
        },
        "outputId": "ce4bb3b2-146a-49c5-f847-266561b09813"
      },
      "cell_type": "code",
      "source": [
        "\n",
        "x = tf.constant(np.arange(-8, 9))\n",
        "\n",
        "a = tf.Variable(5 * x**2)\n",
        "b = tf.Variable(3 * x)\n",
        "c = tf.constant(15, dtype=tf.int64)\n",
        "y = tf.Variable(a - b + c)\n",
        "# y = tf.Variable(5 * x ** 2 - 3 * x + 15) # in a single declaration\n",
        "\n",
        "with tf.Session() as session:\n",
        "    session.run(tf.global_variables_initializer())\n",
        "    print(session.run(y))"
      ],
      "execution_count": 38,
      "outputs": [
        {
          "output_type": "stream",
          "text": [
            "[359 281 213 155 107  69  41  23  15  17  29  51  83 125 177 239 311]\n"
          ],
          "name": "stdout"
        }
      ]
    },
    {
      "metadata": {
        "id": "0uO9q4NpgJ48",
        "colab_type": "text"
      },
      "cell_type": "markdown",
      "source": [
        "It's is possible to update variables in loops"
      ]
    },
    {
      "metadata": {
        "id": "XDzSVhP9gUAF",
        "colab_type": "code",
        "colab": {
          "base_uri": "https://localhost:8080/",
          "height": 107
        },
        "outputId": "394611f0-e7de-46b1-b73f-9228537e2edb"
      },
      "cell_type": "code",
      "source": [
        "x = tf.Variable(0)\n",
        "\n",
        "with tf.Session() as session:\n",
        "    session.run(tf.global_variables_initializer())\n",
        "    for i in range(5):\n",
        "        x = x + 1\n",
        "        print(session.run(x))"
      ],
      "execution_count": 46,
      "outputs": [
        {
          "output_type": "stream",
          "text": [
            "1\n",
            "2\n",
            "3\n",
            "4\n",
            "5\n"
          ],
          "name": "stdout"
        }
      ]
    },
    {
      "metadata": {
        "id": "TZRfYJkViu7U",
        "colab_type": "code",
        "colab": {
          "base_uri": "https://localhost:8080/",
          "height": 107
        },
        "outputId": "d41f0c12-45b2-4175-a7f5-7e2b389bd073"
      },
      "cell_type": "code",
      "source": [
        "x = tf.constant(np.random.randint(100))\n",
        "y = tf.Variable(x)\n",
        "\n",
        "with tf.Session() as session:\n",
        "    session.run(tf.global_variables_initializer())\n",
        "\n",
        "    for i in range(5):\n",
        "        y = y / 2 + np.random.randint(100) / 2\n",
        "        print(session.run(y))"
      ],
      "execution_count": 54,
      "outputs": [
        {
          "output_type": "stream",
          "text": [
            "75.0\n",
            "58.0\n",
            "78.0\n",
            "86.5\n",
            "78.75\n"
          ],
          "name": "stdout"
        }
      ]
    }
  ]
}